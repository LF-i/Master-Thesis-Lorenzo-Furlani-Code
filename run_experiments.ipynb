{
  "cells": [
    {
      "cell_type": "markdown",
      "metadata": {},
      "source": [
        "## Enrivonment Selection"
      ]
    },
    {
      "cell_type": "code",
      "execution_count": null,
      "metadata": {},
      "outputs": [],
      "source": [
        "## TODO: select the environment installed from the environment.yml file"
      ]
    },
    {
      "cell_type": "markdown",
      "metadata": {},
      "source": [
        "## Load Data"
      ]
    },
    {
      "cell_type": "code",
      "execution_count": null,
      "metadata": {
        "gather": {
          "logged": 1751104677320
        }
      },
      "outputs": [],
      "source": [
        "### Load Futures Series\n",
        "\n",
        "import os\n",
        "\n",
        "## TODO: add path to the folder containing the src folder\n",
        "os.chdir(r'')\n",
        "\n",
        "import numpy as np; import pandas as pd; import torch\n",
        "from datetime import datetime; from sklearn.preprocessing import LabelEncoder\n",
        "from src.models import Transformer\n",
        "from src.features import DeepMomentumFeatures, MACDFeatures, DatetimeFeatures, DefaultFeatureCreator\n",
        "\n",
        "## Series\n",
        "series = pd.read_csv('prices_back-ratio-adj.csv', index_col=0, parse_dates=True)\n",
        "\n",
        "## TODO: if you want to run the TMOM:\n",
        "# 1. Uncomment the following lines up to the next \"TODO\".\n",
        "# 2. For one asset at a time set the label (label='ISM' or 'CZN') and run all the cells.\n",
        "\n",
        "# label = 'CZN' # labels: ISM, CZN\n",
        "# all_used_assets = [label+'_back_adj']\n",
        "# series = series.rename(columns=dict(zip(series.columns, series.columns+'_close')))\n",
        "\n",
        "# TODO: if you want to run the DMN, CS-DMN, or STMOM:\n",
        "# 1. Uncomment the following lines.\n",
        "# 2. Run all the cells.\n",
        "\n",
        "# label = []\n",
        "# all_used_assets = series.columns\n",
        "# series = series.rename(columns=dict(zip(series.columns, series.columns+'_close')))"
      ]
    },
    {
      "cell_type": "markdown",
      "metadata": {},
      "source": [
        "## Prepare Features"
      ]
    },
    {
      "cell_type": "code",
      "execution_count": 5,
      "metadata": {
        "gather": {
          "logged": 1751104677464
        }
      },
      "outputs": [],
      "source": [
        "USE_DATETIME_FEATURES = True\n",
        "\n",
        "used_features = [DeepMomentumFeatures, MACDFeatures] # one can implement and add other features like VWAP, RSI etc\n",
        "features_configs = [{}, {}]\n",
        "\n",
        "cols_not_to_check = ['close','srs']\n",
        "\n",
        "if USE_DATETIME_FEATURES:\n",
        "    used_features.append(DatetimeFeatures)\n",
        "    features_configs.append({})\n",
        "    cols_not_to_check += ['date']\n",
        "\n",
        "fc = DefaultFeatureCreator(series, all_used_assets, used_features, features_configs)\n",
        "\n",
        "features = fc.create_features()\n",
        "\n",
        "shared_cols = None\n",
        "\n",
        "# Check if something is wrong with the data\n",
        "BAD_VALUES_THRESHOLD = 10000\n",
        "\n",
        "for key in features.keys(): # for every asset\n",
        "    # features[key] = features[key].iloc[:-2,:] # TODO: FIX LATER\n",
        "    assert features[key].drop(cols_not_to_check, axis=1) \\\n",
        "    .max().max() < BAD_VALUES_THRESHOLD # no values exceeding 10k\n",
        "    assert features[key].drop(cols_not_to_check, axis=1) \\\n",
        "    .min().min() > -BAD_VALUES_THRESHOLD # no values below -10k"
      ]
    },
    {
      "cell_type": "code",
      "execution_count": null,
      "metadata": {
        "gather": {
          "logged": 1751104677604
        }
      },
      "outputs": [],
      "source": [
        "cols_to_use = [\n",
        "    'norm_daily_return','norm_monthly_return','norm_quarterly_return',\n",
        "    'norm_biannual_return','norm_annual_return',\n",
        "    'macd_8_24','macd_16_48','macd_32_96'\n",
        "    ]\n",
        "\n",
        "if USE_DATETIME_FEATURES:\n",
        "    # use: capture seasonalities in the series\n",
        "    datetime_cols = [\n",
        "        'year',\n",
        "        'month_of_year',\n",
        "         'day_of_week'\n",
        "        ]\n",
        "    enable_categorical=True\n",
        "\n",
        "    # Encode (already existing) categorical features\n",
        "    for col in datetime_cols:\n",
        "        for key in features.keys():\n",
        "            features[key][col] = LabelEncoder().fit_transform(features[key][col]) # fit label encoder and return encoded labels\n",
        "else:\n",
        "    datetime_cols = []\n",
        "    enable_categorical=False\n",
        "\n",
        "# Configure experiment\n",
        "\n",
        "# Training is done via expanding window approach:\n",
        "# train, val, test = min 5 years for training & validation + next 5 years for testing\n",
        "# validation data constitutes the last 10% of training data\n",
        "\n",
        "test_delta = pd.Timedelta('1825days') # 5 years of testing\n",
        "date_range = pd.to_datetime([ datetime(year, 1, 1) for year in range(2010, 2025, 5) ]) # original: (2005, 2025, 5)\n",
        "\n",
        "date_range"
      ]
    },
    {
      "cell_type": "markdown",
      "metadata": {},
      "source": [
        "## Configure Experiment"
      ]
    },
    {
      "cell_type": "code",
      "execution_count": null,
      "metadata": {
        "gather": {
          "logged": 1751104681865
        }
      },
      "outputs": [],
      "source": [
        "MODEL_MAPPING   = {'trf': Transformer}\n",
        "hyperparams     = {}\n",
        "fixed_params    = {}\n",
        "params_c        = {}\n",
        "\n",
        "## Settings\n",
        "model_type  = 'trf' # model type from MODEL_MAPPING\n",
        "target_vol  = 0.15 # measure for turnover evaluation\n",
        "device      = 'cuda' if torch.cuda.is_available() else 'cpu'\n",
        "\n",
        "settings = {\n",
        "    'plot': False,\n",
        "    'print_': False,\n",
        "    'save_model': False,\n",
        "}\n",
        "\n",
        "## TODO: if want to regularize w.r.t transaction costs:\n",
        "# 1. set 'apply_turnover_reg' to True\n",
        "# 2. set 'transaction_cost' to transaction cost, in bsp, that the model needs to regularize for \n",
        "params_c['apply_turnover_reg']  = False\n",
        "params_c['transaction_cost']    = 0.0\n",
        "params_c['basis_points']        = [0.0,1.0,5.0,10.0] # ignore\n",
        "\n",
        "## Hyperparameters grid\n",
        "hyperparams['batch_size']   = [512,1024] # all good\n",
        "hyperparams['lr']           = [1e-4,1e-3,1e-2] # add 1e-1 -> bad performance\n",
        "hyperparams['dropout']      = [0.1,0.3,0.5] # all good\n",
        "hyperparams['max_norm']     = [1e-2,1e-1] # all good\n",
        "hyperparams['n_heads']      = [2,4] # all good\n",
        "hyperparams['n_layers']     = [1,2,3] # all good\n",
        "hyperparams['d_model']      = [16,32,64,128] # remove 8, add 128\n",
        "hyperparams['multiplier']   = [2,4,8,16] # remove 1, add 16\n",
        "hyperparams['l1_reg_weight'] = [0.0]\n",
        "hyperparams['l2_reg_weight'] = [0.0]\n",
        "\n",
        "## Fixed parameters grid\n",
        "fixed_params['n_epochs']        = 100\n",
        "fixed_params['patience']        = 10\n",
        "fixed_params['n_seeds']         = 5\n",
        "fixed_params['apply_l1_reg']    = False\n",
        "fixed_params['l2_reg_weight']   = 0.0\n",
        "fixed_params['scaling']         = None # None, 'standard', 'minmax'\n",
        "fixed_params['timesteps']       = 63"
      ]
    },
    {
      "cell_type": "markdown",
      "metadata": {},
      "source": [
        "## Sample Random Search Hyperparameters"
      ]
    },
    {
      "cell_type": "code",
      "execution_count": null,
      "metadata": {
        "gather": {
          "logged": 1751104685892
        }
      },
      "outputs": [],
      "source": [
        "grid                        = hyperparams\n",
        "n_seeds                     = 5\n",
        "n_samples                   = 50\n",
        "sampled_models              = []\n",
        "sampled_models_with_seed    = []\n",
        "hyperparams_grid            = []\n",
        "\n",
        "np.random.seed(42)\n",
        "\n",
        "## Sample unique models\n",
        "while len(sampled_models) < n_samples:\n",
        "\n",
        "    sampled_model = []\n",
        "\n",
        "    for k, v in grid.items():\n",
        "        val = np.random.choice(v)\n",
        "        if hasattr(val, \"item\"):\n",
        "            val = val.item()\n",
        "        sampled_model.append(val)\n",
        "    \n",
        "    if sampled_model not in sampled_models:\n",
        "        sampled_models.append(sampled_model)\n",
        "\n",
        "## Add seed to sampled unique models\n",
        "for sampled_model in sampled_models:\n",
        "    for seed in range(n_seeds):\n",
        "        sampled_model_with_seed = sampled_model.copy()\n",
        "        sampled_model_with_seed.append(seed)\n",
        "        sampled_models_with_seed.append(sampled_model_with_seed)\n",
        "\n",
        "models = pd.DataFrame(data=sampled_models_with_seed, columns=list(grid.keys())+['seed'])\n",
        "\n",
        "assert models.shape == models.drop_duplicates().shape\n",
        "\n",
        "## Turn pd.DataFrame into dictionary\n",
        "for idx, model in models.iterrows():\n",
        "\n",
        "    hyperparams_iter = {}\n",
        "\n",
        "    for key in model.index:\n",
        "        hyperparams_iter[key] = float(model[key]) if model[key] % 1 != 0 else int(model[key])\n",
        " \n",
        "    hyperparams_grid.append(hyperparams_iter)"
      ]
    },
    {
      "cell_type": "markdown",
      "metadata": {},
      "source": [
        "## Run Experiments"
      ]
    },
    {
      "cell_type": "code",
      "execution_count": null,
      "metadata": {
        "gather": {
          "logged": 1751020790468
        }
      },
      "outputs": [],
      "source": [
        "### DMN\n",
        "\n",
        "## TODO: add path to the folder containing the src folder\n",
        "os.chdir(r'')\n",
        "\n",
        "from joblib import Parallel, delayed\n",
        "from src.utils import train_model_trf\n",
        "import time\n",
        "\n",
        "def run_trial_transf(hyperparams):\n",
        "    try:\n",
        "        torch.set_num_threads(1)\n",
        "        return train_model_trf(\n",
        "            hyperparams=hyperparams, date_range=date_range, model_type=model_type, \n",
        "            params_c=params_c, fixed_params=fixed_params, features=features, \n",
        "            cols_to_use=cols_to_use, shared_cols=shared_cols, datetime_cols=datetime_cols, \n",
        "            test_delta=test_delta, device=device, target_vol=target_vol, settings=settings\n",
        "    )\n",
        "    except Exception as e:\n",
        "        return {\"error\": str(e), \"hyperparams\": hyperparams}\n",
        "\n",
        "# Parameters to automatically restart parallel run on failure\n",
        "max_retries = 5  # maximum number of retries\n",
        "retry_count = 0\n",
        "\n",
        "## Set folder name\n",
        "folder_parts = [model_type]\n",
        "\n",
        "## TODO: name the folder where the results will be stored after the model's name\n",
        "folder_parts.append('DMN_CS')\n",
        "\n",
        "if params_c.get('apply_turnover_reg'):\n",
        "    folder_parts.append(str(params_c['transaction_cost']))\n",
        "\n",
        "folder_name = os.path.join('_'.join(folder_parts))\n",
        "\n",
        "if not os.path.exists(folder_name):\n",
        "    os.mkdir(folder_name)\n",
        "os.chdir(folder_name)\n",
        "\n",
        "## Run experiments\n",
        "while retry_count < max_retries:\n",
        "    try:\n",
        "        print(f\"Starting Parallel run (attempt {retry_count + 1})...\")\n",
        "        results = Parallel(n_jobs=8)(\n",
        "            delayed(run_trial_transf)(hyperparams) for hyperparams in hyperparams_grid\n",
        "        )\n",
        "        print(\"Parallel run completed successfully.\")\n",
        "        break  # Exit the loop if successful\n",
        "    except Exception as e:\n",
        "        retry_count += 1\n",
        "        print(f\"Parallel run failed with error: {e}\")\n",
        "        if retry_count < max_retries:\n",
        "            print(\"Retrying...\")\n",
        "            time.sleep(0.5)  # Optional: Wait before retrying\n",
        "        else:\n",
        "            print(\"Max retries reached. Exiting.\")"
      ]
    }
  ],
  "metadata": {
    "kernel_info": {
      "name": "ml-custom"
    },
    "kernelspec": {
      "display_name": "ml",
      "language": "python",
      "name": "python3"
    },
    "language_info": {
      "codemirror_mode": {
        "name": "ipython",
        "version": 3
      },
      "file_extension": ".py",
      "mimetype": "text/x-python",
      "name": "python",
      "nbconvert_exporter": "python",
      "pygments_lexer": "ipython3",
      "version": "3.11.11"
    },
    "microsoft": {
      "host": {
        "AzureML": {
          "notebookHasBeenCompleted": true
        }
      },
      "ms_spell_check": {
        "ms_spell_check_language": "de"
      }
    },
    "nteract": {
      "version": "nteract-front-end@1.0.0"
    }
  },
  "nbformat": 4,
  "nbformat_minor": 2
}
